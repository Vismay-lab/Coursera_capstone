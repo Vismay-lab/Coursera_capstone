{
    "cells": [
        {
            "cell_type": "markdown",
            "metadata": {
                "collapsed": true
            },
            "source": "# Capstone Project Report"
        },
        {
            "cell_type": "markdown",
            "metadata": {},
            "source": "## 1. Introduction / Business Problem"
        },
        {
            "cell_type": "markdown",
            "metadata": {},
            "source": "**Let us pick up a hypothetical situation**\n**Health is essential factor to maintain efficiency in work life and keep the body fit and healthy. The New York City administration wants to conduct a survey, to find the number of health and fitness centers in the city. The government has taken this step to mitigate the incrising number of obace citizens between the age group of 18-40, with the help of different data science techniques the government can take precautive measures. The Administration believes that this idea can be a deciding factor for funding and permiting stake holders to construct new fitness clubs. Which can bring the awareness among the youth to maintain a good diet and  good health.**\n\n#### Problem Statements:\n#### 1. Find the number of fitness clubs in New York city. \n#### 2. Places where Fitness clubs are needed.\n#### 3. Clubs that have best ratings."
        },
        {
            "cell_type": "markdown",
            "metadata": {},
            "source": "## 2. Data usage"
        },
        {
            "cell_type": "markdown",
            "metadata": {},
            "source": "**The data we will be using is New York data set from Foursquare API. We will use this data to analyse and visualize the business problem using folium library. \nThe link of the dataset: https://cocl.us/new_york_dataset\nFrom the above dataset, to complete the questions, we need the following data:\n    Neighborhood names, Borough, Latitude Lingitude, Ratings. We are taking ratings beacuse based on the ratings we can assess the quality of services that the fitness clubs provide. Based on these ratings the administration can allocate the funds and improvise the f\n    The data related to ratings, Fitness club locations will be extracted from Foursquare API.**"
        },
        {
            "cell_type": "code",
            "execution_count": null,
            "metadata": {},
            "outputs": [],
            "source": ""
        }
    ],
    "metadata": {
        "kernelspec": {
            "display_name": "Python 3.7",
            "language": "python",
            "name": "python3"
        },
        "language_info": {
            "codemirror_mode": {
                "name": "ipython",
                "version": 3
            },
            "file_extension": ".py",
            "mimetype": "text/x-python",
            "name": "python",
            "nbconvert_exporter": "python",
            "pygments_lexer": "ipython3",
            "version": "3.7.9"
        }
    },
    "nbformat": 4,
    "nbformat_minor": 1
}