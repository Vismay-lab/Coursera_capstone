{
 "cells": [
  {
   "cell_type": "markdown",
   "metadata": {},
   "source": [
    "# Capstone project "
   ]
  },
  {
   "cell_type": "markdown",
   "metadata": {},
   "source": [
    "## 1. Intorduction / Business Problem"
   ]
  },
  {
   "cell_type": "markdown",
   "metadata": {},
   "source": [
    "In this project we will focus on the population comparision of the two cities, Canada and New York.\n",
    "\n",
    "New York and Toronto, are both large and developed cities, and populated plays an essention role in determing following factors:\n",
    "\n",
    "1. How much GDP the people  of the region / city are contributing to.\n",
    "2. Populus cities can create employment and job opportunities can come up, since the economic contribution of the city is expected to increase.\n",
    "3. The government can generate more tax, and funding for the wellfare of the nation can be increased, which includes development and construction of new fecilities and good exchange of goods and services. \n",
    "\n",
    "The current metro area population of Toronto in 2020 is 6,197,000, a 0.94% increase from 2019. The metro area population of Toronto in 2019 was 6,139,000, a 0.94% increase from 2018. The metro area population of Toronto in 2018 was 6,082,000, a 1.2% increase from 2017\n",
    "\n",
    "New York City (NYC), often called simply New York, is the most populous city in the United States. With an estimated 2019 population of 8,336,817 distributed over about 302.6 square miles (784 km2), New York City is also the most densely populated major city in the United States.\n",
    "\n",
    "### Problem Statement:\n",
    "1. Comapre the number of neighbourhoods each city has.\n",
    "2. Derive insights from that data to predict which city could be more populated in coming years. "
   ]
  },
  {
   "cell_type": "markdown",
   "metadata": {},
   "source": [
    "## 2. Data collection:\n",
    "\n",
    "The data for Toronto will be collected from wikipedia and the data for New York city will be used from IBM database repository. (The reason to opt for IBM data repository is, there is a library / system error which refrains the \"groups\" keyword to be executed while structuring venue from Foursquare API.)\n",
    "\n",
    "Link for CANADA DATASET: https://en.wikipedia.org/wiki/List_of_postal_codes_of_Canada:_M\n",
    "\n",
    "Link for NEW YORK dataset: https://cf-courses-data.s3.us.cloud-object-storage.appdomain.cloud/IBMDeveloperSkillsNetwork-DS0701EN-SkillsNetwork/labs/newyork_data.json"
   ]
  },
  {
   "cell_type": "code",
   "execution_count": null,
   "metadata": {
    "collapsed": true
   },
   "outputs": [],
   "source": []
  }
 ],
 "metadata": {
  "kernelspec": {
   "display_name": "Python 3",
   "language": "python",
   "name": "python3"
  },
  "language_info": {
   "codemirror_mode": {
    "name": "ipython",
    "version": 3
   },
   "file_extension": ".py",
   "mimetype": "text/x-python",
   "name": "python",
   "nbconvert_exporter": "python",
   "pygments_lexer": "ipython3",
   "version": "3.6.2"
  }
 },
 "nbformat": 4,
 "nbformat_minor": 2
}
